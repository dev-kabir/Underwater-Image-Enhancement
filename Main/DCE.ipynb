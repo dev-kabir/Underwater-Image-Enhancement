{
 "cells": [
  {
   "cell_type": "code",
   "execution_count": 2,
   "id": "1cf01b51",
   "metadata": {},
   "outputs": [
    {
     "name": "stdout",
     "output_type": "stream",
     "text": [
      "Testing EUVP (890 images):\n"
     ]
    },
    {
     "name": "stderr",
     "output_type": "stream",
     "text": [
      "100%|████████████████████████████████████████████████████████████████████████████████| 890/890 [02:19<00:00,  6.39it/s]\n"
     ]
    },
    {
     "name": "stdout",
     "output_type": "stream",
     "text": [
      "  EUVP - MSE: 572.4187, PSNR: 23.6083\n",
      "Testing UIEB (890 images):\n"
     ]
    },
    {
     "name": "stderr",
     "output_type": "stream",
     "text": [
      "100%|████████████████████████████████████████████████████████████████████████████████| 890/890 [03:57<00:00,  3.74it/s]\n"
     ]
    },
    {
     "name": "stdout",
     "output_type": "stream",
     "text": [
      "  UIEB - MSE: 812.5887, PSNR: 21.3973\n",
      "Testing Degraded (890 images):\n"
     ]
    },
    {
     "name": "stderr",
     "output_type": "stream",
     "text": [
      "100%|████████████████████████████████████████████████████████████████████████████████| 890/890 [06:40<00:00,  2.22it/s]"
     ]
    },
    {
     "name": "stdout",
     "output_type": "stream",
     "text": [
      "  Degraded - MSE: 262.7021, PSNR: 26.1286\n"
     ]
    },
    {
     "name": "stderr",
     "output_type": "stream",
     "text": [
      "\n"
     ]
    }
   ],
   "source": [
    "import os\n",
    "import ntpath\n",
    "import numpy as np\n",
    "from keras.models import model_from_json\n",
    "from sklearn.metrics import mean_squared_error\n",
    "import math\n",
    "import contextlib\n",
    "from utils.data_utils import getPaths, read_and_resize, preprocess, deprocess\n",
    "from tqdm import tqdm\n",
    "import random\n",
    "from PIL import Image  # Add PIL for image saving\n",
    "\n",
    "# Define the path to the directory containing all datasets\n",
    "datasets_dir = \"D:/IITG/UW/DATASETS FOR COMPARISION\"\n",
    "\n",
    "# Define the path to the output folder\n",
    "output_dir = \"C:/Users/raiha/Downloads/FUnIE-GAN/data/output\"\n",
    "\n",
    "# Define the names of the datasets\n",
    "dataset_names = [\"EUVP\", \"UIEB\", \"Degraded\"]\n",
    "\n",
    "# Function to select a random subset of images from a dataset\n",
    "def select_random_subset(data_dir, num_samples):\n",
    "    test_paths = list(getPaths(data_dir))\n",
    "    return random.sample(test_paths, num_samples)\n",
    "\n",
    "# Function to test a dataset and get MSE and PSNR results\n",
    "def test_dataset(data_dir, dataset_name, num_samples, output_dir):\n",
    "    test_paths = select_random_subset(data_dir, num_samples)\n",
    "    \n",
    "    print(f\"Testing {dataset_name} ({num_samples} images):\")\n",
    "    \n",
    "    checkpoint_dir = 'models/gen_p/'\n",
    "    model_name_by_epoch = \"model_15320_\"\n",
    "    \n",
    "    model_h5 = checkpoint_dir + model_name_by_epoch + \".h5\"\n",
    "    model_json = checkpoint_dir + model_name_by_epoch + \".json\"\n",
    "    assert (os.path.exists(model_h5) and os.path.exists(model_json))\n",
    "    \n",
    "    with open(model_json, \"r\") as json_file:\n",
    "        loaded_model_json = json_file.read()\n",
    "    funie_gan_generator = model_from_json(loaded_model_json)\n",
    "    funie_gan_generator.load_weights(model_h5)\n",
    "    \n",
    "    all_mse_values = []\n",
    "    all_psnr_values = []\n",
    "\n",
    "    for img_path in tqdm(test_paths):\n",
    "        inp_img = read_and_resize(img_path, (256, 256))\n",
    "        im = preprocess(inp_img)\n",
    "        im = np.expand_dims(im, axis=0)\n",
    "        \n",
    "        # Suppress the verbose output from the predict method\n",
    "        with open(os.devnull, 'w') as fnull:\n",
    "            with contextlib.redirect_stdout(fnull):\n",
    "                gen = funie_gan_generator.predict(im)\n",
    "        \n",
    "        gen_img = deprocess(gen)[0]\n",
    "        \n",
    "        mse = mean_squared_error(inp_img.flatten(), gen_img.flatten())\n",
    "        all_mse_values.append(mse)\n",
    "        \n",
    "        psnr = 10 * math.log10((255 ** 2) / mse)\n",
    "        all_psnr_values.append(psnr)\n",
    "        \n",
    "        # Save the original and generated images side by side in a single image\n",
    "        img_name = ntpath.basename(img_path)\n",
    "        original_img = Image.fromarray(np.uint8(inp_img))\n",
    "        generated_img = Image.fromarray(np.uint8(gen_img))\n",
    "        combined_img = Image.new('RGB', (original_img.width + generated_img.width, original_img.height))\n",
    "        combined_img.paste(original_img, (0, 0))\n",
    "        combined_img.paste(generated_img, (original_img.width, 0))\n",
    "        combined_img.save(os.path.join(output_dir, dataset_name, f\"combined_{img_name}\"))\n",
    "\n",
    "\n",
    "\n",
    "    return all_mse_values, all_psnr_values\n",
    "\n",
    "# Create the output directory if it doesn't exist\n",
    "os.makedirs(output_dir, exist_ok=True)\n",
    "\n",
    "for dataset_name in dataset_names:\n",
    "    dataset_path = os.path.join(datasets_dir, dataset_name)\n",
    "    dataset_output_dir = os.path.join(output_dir, dataset_name)\n",
    "    os.makedirs(dataset_output_dir, exist_ok=True)\n",
    "    \n",
    "    dataset_mse, dataset_psnr = test_dataset(dataset_path, dataset_name, 890, output_dir)\n",
    "    print(f\"  {dataset_name} - MSE: {np.mean(dataset_mse):.4f}, PSNR: {np.mean(dataset_psnr):.4f}\")\n"
   ]
  },
  {
   "cell_type": "code",
   "execution_count": null,
   "id": "3565ea13",
   "metadata": {},
   "outputs": [],
   "source": []
  }
 ],
 "metadata": {
  "kernelspec": {
   "display_name": "Python 3 (ipykernel)",
   "language": "python",
   "name": "python3"
  },
  "language_info": {
   "codemirror_mode": {
    "name": "ipython",
    "version": 3
   },
   "file_extension": ".py",
   "mimetype": "text/x-python",
   "name": "python",
   "nbconvert_exporter": "python",
   "pygments_lexer": "ipython3",
   "version": "3.9.12"
  }
 },
 "nbformat": 4,
 "nbformat_minor": 5
}
